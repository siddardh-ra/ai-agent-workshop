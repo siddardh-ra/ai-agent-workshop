{
 "cells": [
  {
   "cell_type": "code",
   "execution_count": null,
   "metadata": {},
   "outputs": [],
   "source": [
    "# Install LangChain and required dependencies if not already installed\n",
    "!pip install langchain openai\n",
    "!pip install -U langchain-openai",
    "!pip install langchain langchain-community openai"
   ]
  },
  {
   "cell_type": "markdown",
   "metadata": {},
   "source": [
    "# LangChain Agent with Multiple Tools\n",
    "This notebook demonstrates how to build an AI agent using LangChain that has :\n",
    "- Check the weather ,Get the latest news,Solve math problems,Tell a joke"
   ]
  },
  {
   "cell_type": "code",
   "execution_count": null,
   "metadata": {},
   "outputs": [],
   "source": [
    "from langchain.agents import Tool, initialize_agent\n",
    "from langchain.chat_models import ChatOpenAI\n",
    "from langchain.agents.agent_types import AgentType\n",
    "import random\n",
    "import httpx\n",
    "from openai import OpenAI\n",
    "import os"
   ]
  },
  {
   "cell_type": "code",
   "execution_count": null,
   "metadata": {},
   "outputs": [],
   "source": [
    "model_key = \"Enter_your_API_KEY\""
   ]
  },
  {
   "cell_type": "code",
   "execution_count": null,
   "metadata": {},
   "outputs": [],
   "source": [
    "model_api=\"https://llama-3-1-8b-instruct-maas-apicast-production.apps.prod.rhoai.rh-aiservices-bu.com:443/v1\"\n",
    "model=\"meta-llama/Llama-3.1-8B-Instruct\"\n"
   ]
  },
  {
   "cell_type": "code",
   "execution_count": 3,
   "metadata": {},
   "outputs": [],
   "source": [
    "# Define functions for each tool\n",
    "def get_weather(city: str) -> str:\n",
    "    return f\"The current weather in {city} is {random.randint(25, 35)}°C with partly cloudy skies.\"\n",
    "\n",
    "def get_news(topic: str) -> str:\n",
    "    return f\"Top headlines on {topic}: 1. News One 2. News Two 3. News Three\"\n",
    "\n",
    "def get_joke(_: str = \"\") -> str:\n",
    "    return \"Why don't scientists trust atoms? Because they make up everything!\"\n",
    "\n",
    "def get_math_answer(expression: str) -> str:\n",
    "    try:\n",
    "        return f\"The result is: {eval(expression)}\"\n",
    "    except:\n",
    "        return \"Sorry, couldn't calculate that.\""
   ]
  },
  {
   "cell_type": "code",
   "execution_count": 19,
   "metadata": {},
   "outputs": [],
   "source": [
    "# Create tool list\n",
    "tools = [\n",
    "    Tool(name=\"WeatherTool\", func=get_weather, description=\"Useful for getting the weather for a city. Input should be a city name.\",return_direct=True),\n",
    "    Tool(name=\"NewsTool\", func=get_news, description=\"Useful for getting latest news headlines about a topic. Input should be a topic name.\",return_direct=True),\n",
    "    Tool(name=\"JokeTool\", func=get_joke, description=\"Useful for telling a random joke.\",return_direct=True),\n",
    "    Tool(name=\"MathTool\", func=get_math_answer, description=\"Useful for solving simple math expressions. Input should be a valid math expression.\",return_direct=True)\n",
    "]"
   ]
  },
  {
   "cell_type": "code",
   "execution_count": 14,
   "metadata": {},
   "outputs": [],
   "source": [
    "# Setup LLM and agent\n",
    "\n",
    "llm = ChatOpenAI(\n",
    "    model=model,\n",
    "    temperature=0,\n",
    "    base_url=model_api,\n",
    "    api_key=model_key,\n",
    ")\n",
    "agent = initialize_agent(tools, llm, agent=AgentType.ZERO_SHOT_REACT_DESCRIPTION, verbose=True,max_iterations=3)"
   ]
  },
  {
   "cell_type": "code",
   "execution_count": 23,
   "metadata": {},
   "outputs": [
    {
     "name": "stdout",
     "output_type": "stream",
     "text": [
      "\n",
      "\n",
      "\u001b[1m> Entering new AgentExecutor chain...\u001b[0m\n",
      "\u001b[32;1m\u001b[1;3mThought: I need to find a way to make the user laugh. I have a tool that can tell a random joke.\n",
      "\n",
      "Action: JokeTool\n",
      "Action Input: \u001b[0m\n",
      "Observation: \u001b[38;5;200m\u001b[1;3mWhy don't scientists trust atoms? Because they make up everything!\u001b[0m\n",
      "\u001b[32;1m\u001b[1;3m\u001b[0m\n",
      "\n",
      "\u001b[1m> Finished chain.\u001b[0m\n",
      "🧠 Agent Response: Why don't scientists trust atoms? Because they make up everything!\n"
     ]
    }
   ],
   "source": [
    "query = \"Make me laugh\"\n",
    "print(\"🧠 Agent Response:\", agent.run(query))"
   ]
  },
  {
   "cell_type": "code",
   "execution_count": 24,
   "metadata": {},
   "outputs": [
    {
     "name": "stdout",
     "output_type": "stream",
     "text": [
      "\n",
      "\n",
      "\u001b[1m> Entering new AgentExecutor chain...\u001b[0m\n",
      "\u001b[32;1m\u001b[1;3mThought: To determine the outfit needed for the climate in Kashmir, I need to know the current weather conditions there.\n",
      "Action: WeatherTool\n",
      "Action Input: Kashmir\u001b[0m\n",
      "Observation: \u001b[36;1m\u001b[1;3mThe current weather in Kashmir is 27°C with partly cloudy skies.\u001b[0m\n",
      "\u001b[32;1m\u001b[1;3m\u001b[0m\n",
      "\n",
      "\u001b[1m> Finished chain.\u001b[0m\n",
      "🧠 Agent Response: The current weather in Kashmir is 27°C with partly cloudy skies.\n"
     ]
    }
   ],
   "source": [
    "query = \"What kind of outfit I need to wear for the climate in Kashmir\"\n",
    "raw_response = agent.run(query)\n",
    "\n",
    "print(\"🧠 Agent Response:\", raw_response)"
   ]
  },
  {
   "cell_type": "code",
   "execution_count": null,
   "metadata": {},
   "outputs": [
    {
     "name": "stdout",
     "output_type": "stream",
     "text": [
      "\n",
      "\n",
      "\u001b[1m> Entering new AgentExecutor chain...\u001b[0m\n",
      "\u001b[32;1m\u001b[1;3mThought: To determine the outfit needed for the climate in Kashmir, I need to know the current weather conditions there.\n",
      "Action: WeatherTool\n",
      "Action Input: Kashmir\u001b[0m\n",
      "Observation: \u001b[36;1m\u001b[1;3mThe current weather in Kashmir is 28°C with partly cloudy skies.\u001b[0m\n",
      "\u001b[32;1m\u001b[1;3m\u001b[0m\n",
      "\n",
      "\u001b[1m> Finished chain.\u001b[0m\n",
      "🧠 Agent Response: The current weather in Kashmir is 28°C with partly cloudy skies.\n",
      "🧥 Final Summarized Response: Considering the temperature of 28°C with partly cloudy skies in Kashmir, I'd recommend dressing in light and breathable clothing to cater to the warm weather. \n",
      "\n",
      "Here are some outfit suggestions:\n",
      "\n",
      "1. Lightweight tops: Opt for cotton, linen, or silk tops that allow for airflow and keep you cool. \n",
      "2. Loose-fitting pants: Synthetic or cotton pants would be a good choice for Kashmir's climate. You can also consider lightweight pants with a bit of stretch for comfort.\n",
      "3. Comfortable shoes: Wear sandals, sneakers, or lightweight boots that are suitable for walking.\n",
      "4. Add a light jacket: Although it's warm, the partly cloudy skies might bring a slight breeze, so pack a lightweight jacket or sweater to layer over your outfit.\n",
      "5. Sun protection: Don't forget to wear sunglasses, a hat, and apply sunscreen to protect yourself from the sun's rays.\n",
      "\n",
      "Some specific color schemes to consider are:\n",
      "\n",
      "- Pastel shades: Soft pink, baby blue, or pale yellow will help reflect the sun's rays and keep you cool.\n",
      "- Lightweight prints: Opt for light, breathable fabrics with subtle patterns like florals or geometric designs.\n",
      "\n",
      "Ultimately, dress in a way that makes you feel comfortable and confident, and don't forget to pack layers for cooler evenings. Enjoy your time in Kashmir!\n"
     ]
    }
   ],
   "source": [
    "query = \"What kind of outfit I need to wear for the climate in Kashmir\"\n",
    "raw_response = agent.run(query)\n",
    "\n",
    "print(\"🧠 Agent Response:\", raw_response)\n",
    "\n",
    "summary_prompt = (\n",
    "    f\"User asked: '{query}'\\n\"\n",
    "    f\"The tool gave this info: '{raw_response}'\\n\"\n",
    "    \"Based on this, provide a helpful information which is relevant to what user asked.\"\n",
    ")\n",
    "\n",
    "client = OpenAI(\n",
    "    base_url=model_api,\n",
    "    api_key=model_key,\n",
    "    http_client=httpx.Client(verify=False)  # DO NOT DO THIS IN PRODUCTION!!!!\n",
    ")\n",
    "\n",
    "summary_response = client.chat.completions.create(\n",
    "    model=model,\n",
    "    messages=[{\"role\": \"user\", \"content\": summary_prompt}]\n",
    ")\n",
    "\n",
    "final_output = summary_response.choices[0].message.content.strip()\n",
    "print(\"🧥 Final Summarized Response:\", final_output)\n"
   ]
  },
  {
   "cell_type": "code",
   "execution_count": 29,
   "metadata": {},
   "outputs": [
    {
     "name": "stdout",
     "output_type": "stream",
     "text": [
      "\n",
      "🔍 Query: What's the weather like in Chennai?\n",
      "\n",
      "\n",
      "\u001b[1m> Entering new AgentExecutor chain...\u001b[0m\n",
      "\u001b[32;1m\u001b[1;3mThought: I need to get the current weather for Chennai.\n",
      "Action: WeatherTool\n",
      "Action Input: Chennai\u001b[0m\n",
      "Observation: \u001b[36;1m\u001b[1;3mThe current weather in Chennai is 35°C with partly cloudy skies.\u001b[0m\n",
      "\u001b[32;1m\u001b[1;3m\u001b[0m\n",
      "\n",
      "\u001b[1m> Finished chain.\u001b[0m\n",
      "🧠 Agent Response: The current weather in Chennai is 35°C with partly cloudy skies.\n",
      "\n",
      "🔍 Query: Tell me the latest news about cricket.\n",
      "\n",
      "\n",
      "\u001b[1m> Entering new AgentExecutor chain...\u001b[0m\n",
      "\u001b[32;1m\u001b[1;3mThought: I need to find the latest news about cricket.\n",
      "Action: NewsTool\n",
      "Action Input: cricket\u001b[0m\n",
      "Observation: \u001b[33;1m\u001b[1;3mTop headlines on cricket: 1. News One 2. News Two 3. News Three\u001b[0m\n",
      "\u001b[32;1m\u001b[1;3m\u001b[0m\n",
      "\n",
      "\u001b[1m> Finished chain.\u001b[0m\n",
      "🧠 Agent Response: Top headlines on cricket: 1. News One 2. News Two 3. News Three\n",
      "\n",
      "🔍 Query: Can you solve 12 * (5 + 3)?\n",
      "\n",
      "\n",
      "\u001b[1m> Entering new AgentExecutor chain...\u001b[0m\n",
      "\u001b[32;1m\u001b[1;3mThought: To solve the math expression, I need to follow the order of operations (PEMDAS/BODMAS), which means I should first evaluate the expression inside the parentheses.\n",
      "Action: MathTool\n",
      "Action Input: 5 + 3\u001b[0m\n",
      "Observation: \u001b[36;1m\u001b[1;3mThe result is: 8\u001b[0m\n",
      "\u001b[32;1m\u001b[1;3m\u001b[0m\n",
      "\n",
      "\u001b[1m> Finished chain.\u001b[0m\n",
      "🧠 Agent Response: The result is: 8\n",
      "\n",
      "🔍 Query: I need a good joke.\n",
      "\n",
      "\n",
      "\u001b[1m> Entering new AgentExecutor chain...\u001b[0m\n",
      "\u001b[32;1m\u001b[1;3mThought: I need to find a way to get a joke.\n",
      "Action: JokeTool\n",
      "Action Input: \u001b[0m\n",
      "Observation: \u001b[38;5;200m\u001b[1;3mWhy don't scientists trust atoms? Because they make up everything!\u001b[0m\n",
      "\u001b[32;1m\u001b[1;3m\u001b[0m\n",
      "\n",
      "\u001b[1m> Finished chain.\u001b[0m\n",
      "🧠 Agent Response: Why don't scientists trust atoms? Because they make up everything!\n"
     ]
    }
   ],
   "source": [
    "# Run multiple queries\n",
    "queries = [\n",
    "    \"What's the weather like in Chennai?\",\n",
    "    \"Tell me the latest news about cricket.\",\n",
    "    \"Can you solve 12 * (5 + 3)?\",\n",
    "    \"I need a good joke.\"\n",
    "]\n",
    "\n",
    "for query in queries:\n",
    "    print(f\"\\n🔍 Query: {query}\")\n",
    "    print(\"🧠 Agent Response:\", agent.run(query))"
   ]
  },
  {
   "cell_type": "code",
   "execution_count": null,
   "metadata": {},
   "outputs": [],
   "source": []
  }
 ],
 "metadata": {
  "kernelspec": {
   "display_name": "Python 3 (ipykernel)",
   "language": "python",
   "name": "python3"
  },
  "language_info": {
   "codemirror_mode": {
    "name": "ipython",
    "version": 3
   },
   "file_extension": ".py",
   "mimetype": "text/x-python",
   "name": "python",
   "nbconvert_exporter": "python",
   "pygments_lexer": "ipython3",
   "version": "3.13.3"
  }
 },
 "nbformat": 4,
 "nbformat_minor": 4
}
